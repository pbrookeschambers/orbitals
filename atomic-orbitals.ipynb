{
 "cells": [
  {
   "cell_type": "code",
   "execution_count": 1,
   "metadata": {
    "jupyter": {
     "source_hidden": true
    }
   },
   "outputs": [],
   "source": [
    "%matplotlib inline\n",
    "\n",
    "from ipywidgets import interact\n",
    "import numpy as np\n",
    "\n",
    "import pyvista as pv\n",
    "from pyvista import examples\n",
    "\n",
    "def plot_orbital(n, l, ml):\n",
    "    grid = examples.load_hydrogen_orbital(n, l ,ml)\n",
    "    eval_at = grid['real_wf'].max() * 0.1\n",
    "    contours = grid.contour(\n",
    "        [eval_at],\n",
    "        scalars=np.abs(grid['real_wf']),\n",
    "        method='marching_cubes',\n",
    "    )\n",
    "    contours = contours.interpolate(grid)\n",
    "    contours.plot(\n",
    "        smooth_shading=True,\n",
    "        show_scalar_bar=False,\n",
    "    )"
   ]
  },
  {
   "cell_type": "code",
   "execution_count": 2,
   "metadata": {},
   "outputs": [
    {
     "data": {
      "application/vnd.jupyter.widget-view+json": {
       "model_id": "e863bfc653b04af3be1a365e1520776e",
       "version_major": 2,
       "version_minor": 0
      },
      "text/plain": [
       "Widget(value='<iframe src=\"http://localhost:40155/index.html?ui=P_0x7fd84d84b910_0&reconnect=auto\" class=\"pyvi…"
      ]
     },
     "metadata": {},
     "output_type": "display_data"
    }
   ],
   "source": [
    "n  = 3\n",
    "l  = 1\n",
    "ml = 1\n",
    "\n",
    "plot_orbital(n, l, ml)"
   ]
  }
 ],
 "metadata": {
  "kernelspec": {
   "display_name": "Python 3 (ipykernel)",
   "language": "python",
   "name": "python3"
  },
  "language_info": {
   "codemirror_mode": {
    "name": "ipython",
    "version": 3
   },
   "file_extension": ".py",
   "mimetype": "text/x-python",
   "name": "python",
   "nbconvert_exporter": "python",
   "pygments_lexer": "ipython3",
   "version": "3.11.6"
  }
 },
 "nbformat": 4,
 "nbformat_minor": 4
}
